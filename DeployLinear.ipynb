{
 "cells": [
  {
   "cell_type": "markdown",
   "id": "5f89444e-81d8-4c72-825b-29ec117167f0",
   "metadata": {},
   "source": [
    "### Importing the pickle module"
   ]
  },
  {
   "cell_type": "code",
   "execution_count": 1,
   "id": "4df103d5",
   "metadata": {},
   "outputs": [],
   "source": [
    "import pickle"
   ]
  },
  {
   "cell_type": "markdown",
   "id": "f0f9bbca-f961-426f-bb5f-8f99d95193c1",
   "metadata": {},
   "source": [
    "### Loading the saved model"
   ]
  },
  {
   "cell_type": "code",
   "execution_count": 2,
   "id": "14d9eab7",
   "metadata": {},
   "outputs": [],
   "source": [
    "load_model=pickle.load(open(\"finalModel.sav\",'rb'))"
   ]
  },
  {
   "cell_type": "markdown",
   "id": "a9dce264-45e0-40b8-b249-10672a25ffcf",
   "metadata": {},
   "source": [
    "### Give the input"
   ]
  },
  {
   "cell_type": "code",
   "execution_count": 5,
   "id": "2b8106e1",
   "metadata": {},
   "outputs": [
    {
     "name": "stderr",
     "output_type": "stream",
     "text": [
      "C:\\Anaconda3\\envs\\ML\\lib\\site-packages\\sklearn\\base.py:442: UserWarning: X does not have valid feature names, but LinearRegression was fitted with feature names\n",
      "  \"X does not have valid feature names, but\"\n"
     ]
    }
   ],
   "source": [
    "result=load_model.predict([[0]])"
   ]
  },
  {
   "cell_type": "markdown",
   "id": "36b54580-0502-4128-b033-f2b918a6d617",
   "metadata": {},
   "source": [
    "### printing the result"
   ]
  },
  {
   "cell_type": "code",
   "execution_count": 6,
   "id": "75592e40",
   "metadata": {},
   "outputs": [
    {
     "data": {
      "text/plain": [
       "array([[26777.3913412]])"
      ]
     },
     "execution_count": 6,
     "metadata": {},
     "output_type": "execute_result"
    }
   ],
   "source": [
    "result"
   ]
  },
  {
   "cell_type": "code",
   "execution_count": null,
   "id": "a44f6920",
   "metadata": {},
   "outputs": [],
   "source": []
  }
 ],
 "metadata": {
  "kernelspec": {
   "display_name": "Python 3 (ipykernel)",
   "language": "python",
   "name": "python3"
  },
  "language_info": {
   "codemirror_mode": {
    "name": "ipython",
    "version": 3
   },
   "file_extension": ".py",
   "mimetype": "text/x-python",
   "name": "python",
   "nbconvert_exporter": "python",
   "pygments_lexer": "ipython3",
   "version": "3.12.7"
  }
 },
 "nbformat": 4,
 "nbformat_minor": 5
}

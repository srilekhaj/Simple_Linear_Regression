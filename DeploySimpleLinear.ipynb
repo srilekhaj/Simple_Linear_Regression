{
 "cells": [
  {
   "cell_type": "markdown",
   "id": "5f89444e-81d8-4c72-825b-29ec117167f0",
   "metadata": {},
   "source": [
    "### Importing the pickle module"
   ]
  },
  {
   "cell_type": "code",
   "execution_count": 11,
   "id": "8cb5067f-927a-4af5-b8d5-7dab2c7cf35d",
   "metadata": {},
   "outputs": [],
   "source": [
    "import warnings\n",
    "warnings.filterwarnings(\"ignore\") #ignoring the warnings"
   ]
  },
  {
   "cell_type": "code",
   "execution_count": 12,
   "id": "4df103d5",
   "metadata": {},
   "outputs": [],
   "source": [
    "# Importing the pickle module to load the saved model\n",
    "import pickle"
   ]
  },
  {
   "cell_type": "markdown",
   "id": "f0f9bbca-f961-426f-bb5f-8f99d95193c1",
   "metadata": {},
   "source": [
    "### Loading the saved model"
   ]
  },
  {
   "cell_type": "code",
   "execution_count": 13,
   "id": "14d9eab7",
   "metadata": {},
   "outputs": [],
   "source": [
    "# Loading the trained Simple linear regression model from a .sav file\n",
    "load_model=pickle.load(open(\"finalized_model.sav\",'rb'))"
   ]
  },
  {
   "cell_type": "markdown",
   "id": "a9dce264-45e0-40b8-b249-10672a25ffcf",
   "metadata": {},
   "source": [
    "### Give the input"
   ]
  },
  {
   "cell_type": "code",
   "execution_count": 14,
   "id": "2b8106e1",
   "metadata": {},
   "outputs": [],
   "source": [
    "result=load_model.predict([[0]])  #predicting the salary for 0 year of experience"
   ]
  },
  {
   "cell_type": "markdown",
   "id": "36b54580-0502-4128-b033-f2b918a6d617",
   "metadata": {},
   "source": [
    "### printing the result"
   ]
  },
  {
   "cell_type": "code",
   "execution_count": 15,
   "id": "75592e40",
   "metadata": {},
   "outputs": [
    {
     "data": {
      "text/plain": [
       "array([[26816.19224403]])"
      ]
     },
     "execution_count": 15,
     "metadata": {},
     "output_type": "execute_result"
    }
   ],
   "source": [
    "result"
   ]
  },
  {
   "cell_type": "code",
   "execution_count": 16,
   "id": "a44f6920",
   "metadata": {},
   "outputs": [
    {
     "name": "stdout",
     "output_type": "stream",
     "text": [
      "The salary is:  [[167005.32889087]]\n"
     ]
    }
   ],
   "source": [
    "result=load_model.predict([[15]])  #predicting the salary for 15 year of experience\n",
    "print(\"The salary is: \", result)"
   ]
  },
  {
   "cell_type": "code",
   "execution_count": null,
   "id": "0b8e3a6e-7371-4b2a-b465-c7da852b7374",
   "metadata": {},
   "outputs": [],
   "source": []
  }
 ],
 "metadata": {
  "kernelspec": {
   "display_name": "Python 3 (ipykernel)",
   "language": "python",
   "name": "python3"
  },
  "language_info": {
   "codemirror_mode": {
    "name": "ipython",
    "version": 3
   },
   "file_extension": ".py",
   "mimetype": "text/x-python",
   "name": "python",
   "nbconvert_exporter": "python",
   "pygments_lexer": "ipython3",
   "version": "3.12.7"
  }
 },
 "nbformat": 4,
 "nbformat_minor": 5
}
